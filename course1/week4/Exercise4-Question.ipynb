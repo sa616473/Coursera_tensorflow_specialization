{
 "cells": [
  {
   "cell_type": "markdown",
   "metadata": {
    "colab_type": "text",
    "id": "UncprnB0ymAE"
   },
   "source": [
    "Below is code with a link to a happy or sad dataset which contains 80 images, 40 happy and 40 sad. \n",
    "Create a convolutional neural network that trains to 100% accuracy on these images,  which cancels training upon hitting training accuracy of >.999\n",
    "\n",
    "Hint -- it will work best with 3 convolutional layers."
   ]
  },
  {
   "cell_type": "code",
   "execution_count": 1,
   "metadata": {},
   "outputs": [],
   "source": [
    "import tensorflow as tf\n",
    "import os\n",
    "import zipfile\n",
    "from os import path, getcwd, chdir\n",
    "\n",
    "# DO NOT CHANGE THE LINE BELOW. If you are developing in a local\n",
    "# environment, then grab happy-or-sad.zip from the Coursera Jupyter Notebook\n",
    "# and place it inside a local folder and edit the path to that location\n",
    "path = f\"{getcwd()}/../tmp2/happy-or-sad.zip\"\n",
    "\n",
    "zip_ref = zipfile.ZipFile(path, 'r')\n",
    "zip_ref.extractall(\"/tmp/h-or-s\")\n",
    "zip_ref.close()"
   ]
  },
  {
   "cell_type": "code",
   "execution_count": 2,
   "metadata": {},
   "outputs": [
    {
     "data": {
      "text/plain": [
       "'/tf/week4/../tmp2/happy-or-sad.zip'"
      ]
     },
     "execution_count": 2,
     "metadata": {},
     "output_type": "execute_result"
    }
   ],
   "source": [
    "path"
   ]
  },
  {
   "cell_type": "code",
   "execution_count": 3,
   "metadata": {},
   "outputs": [],
   "source": [
    "from tensorflow.keras import Sequential\n",
    "from tensorflow.keras.layers import Dense, Conv2D, MaxPool2D,Flatten\n",
    "from tensorflow.keras.optimizers import RMSprop\n",
    "from tensorflow.keras.preprocessing.image import ImageDataGenerator\n"
   ]
  },
  {
   "cell_type": "code",
   "execution_count": 4,
   "metadata": {},
   "outputs": [],
   "source": [
    "class myCallback(tf.keras.callbacks.Callback):\n",
    "    def on_batch_end(self, epoch, logs={}):\n",
    "        if(logs.get('acc') > 0.999):\n",
    "            print(\"\\n Reached Accuracy close to 100%\")\n",
    "            self.model.stop_training =True"
   ]
  },
  {
   "cell_type": "code",
   "execution_count": 39,
   "metadata": {},
   "outputs": [],
   "source": [
    "def train_happy_sad_model():\n",
    "\n",
    "#     #Creating a Model\n",
    "    model = Sequential()\n",
    "#     #Convolution 1 layers\n",
    "    model.add(Conv2D(16, (3,3), activation='relu', input_shape = (150,150,3)))\n",
    "    model.add(MaxPool2D(pool_size=(2,2)))\n",
    "#     #Convolution 2 layer\n",
    "    model.add(Conv2D(32, (3,3), activation='relu'))\n",
    "    model.add(MaxPool2D(pool_size=(2,2)))\n",
    "#     #Convolution 3 layer\n",
    "    model.add(Conv2D(64, (3,3), activation='relu'))\n",
    "    model.add(MaxPool2D(pool_size=(2,2)))\n",
    "#     #Connecting a DNN\n",
    "    model.add(Flatten())\n",
    "    model.add(Dense(units=512, activation='relu'))\n",
    "    model.add(Dense(units=1, activation='sigmoid'))\n",
    "    \n",
    "    model.summary()\n",
    "              \n",
    "    #Compiling the model\n",
    "    model.compile(optimizer=RMSprop(lr=0.001), loss='binary_crossentropy', metrics=['accuracy'])\n",
    "    \n",
    "    callbacks = myCallback()\n",
    "              \n",
    "    #Training image generator\n",
    "    train_datagen = ImageDataGenerator(rescale=1./255)\n",
    "    train_gen = train_datagen.flow_from_directory('/tmp/h-or-s',\n",
    "                                                target_size = (150,150),\n",
    "                                                  batch_size=128,\n",
    "                                                  class_mode='binary')\n",
    "    \n",
    "    \n",
    "    #Fitting the model\n",
    "    history = model.fit(train_gen,\n",
    "                epochs=300,\n",
    "                callbacks=[callbacks])\n",
    "    return history.history['acc'][-1]"
   ]
  },
  {
   "cell_type": "code",
   "execution_count": 41,
   "metadata": {},
   "outputs": [
    {
     "name": "stdout",
     "output_type": "stream",
     "text": [
      "Model: \"sequential_7\"\n",
      "_________________________________________________________________\n",
      "Layer (type)                 Output Shape              Param #   \n",
      "=================================================================\n",
      "conv2d_21 (Conv2D)           (None, 148, 148, 16)      448       \n",
      "_________________________________________________________________\n",
      "max_pooling2d_21 (MaxPooling (None, 74, 74, 16)        0         \n",
      "_________________________________________________________________\n",
      "conv2d_22 (Conv2D)           (None, 72, 72, 32)        4640      \n",
      "_________________________________________________________________\n",
      "max_pooling2d_22 (MaxPooling (None, 36, 36, 32)        0         \n",
      "_________________________________________________________________\n",
      "conv2d_23 (Conv2D)           (None, 34, 34, 64)        18496     \n",
      "_________________________________________________________________\n",
      "max_pooling2d_23 (MaxPooling (None, 17, 17, 64)        0         \n",
      "_________________________________________________________________\n",
      "flatten_7 (Flatten)          (None, 18496)             0         \n",
      "_________________________________________________________________\n",
      "dense_14 (Dense)             (None, 512)               9470464   \n",
      "_________________________________________________________________\n",
      "dense_15 (Dense)             (None, 1)                 513       \n",
      "=================================================================\n",
      "Total params: 9,494,561\n",
      "Trainable params: 9,494,561\n",
      "Non-trainable params: 0\n",
      "_________________________________________________________________\n",
      "Found 80 images belonging to 2 classes.\n",
      "Epoch 1/300\n",
      "1/1 [==============================] - 2s 2s/step - loss: 0.6930 - acc: 0.5000\n",
      "Epoch 2/300\n",
      "1/1 [==============================] - 0s 81ms/step - loss: 9.2426 - acc: 0.5000\n",
      "Epoch 3/300\n",
      "1/1 [==============================] - 0s 313ms/step - loss: 2.6832 - acc: 0.5000\n",
      "Epoch 4/300\n",
      "1/1 [==============================] - 0s 310ms/step - loss: 0.8197 - acc: 0.5000\n",
      "Epoch 5/300\n",
      "1/1 [==============================] - 0s 398ms/step - loss: 0.6585 - acc: 0.6250\n",
      "Epoch 6/300\n",
      "1/1 [==============================] - 0s 309ms/step - loss: 0.6586 - acc: 0.5000\n",
      "Epoch 7/300\n",
      "1/1 [==============================] - 0s 375ms/step - loss: 0.6364 - acc: 0.5000\n",
      "Epoch 8/300\n",
      "1/1 [==============================] - 0s 322ms/step - loss: 0.5366 - acc: 0.5750\n",
      "Epoch 9/300\n",
      "1/1 [==============================] - 0s 373ms/step - loss: 0.4405 - acc: 0.8875\n",
      "Epoch 10/300\n",
      "1/1 [==============================] - 0s 307ms/step - loss: 0.6836 - acc: 0.5000\n",
      "Epoch 11/300\n",
      "1/1 [==============================] - 0s 317ms/step - loss: 0.6279 - acc: 0.5000\n",
      "Epoch 12/300\n",
      "1/1 [==============================] - 0s 468ms/step - loss: 0.4383 - acc: 0.7500\n",
      "Epoch 13/300\n",
      "1/1 [==============================] - 0s 298ms/step - loss: 0.3230 - acc: 0.9125\n",
      "Epoch 14/300\n",
      "\n",
      " Reached Accuracy close to 100%\n",
      "1/1 [==============================] - 0s 313ms/step - loss: 0.2555 - acc: 1.0000\n"
     ]
    },
    {
     "data": {
      "text/plain": [
       "1.0"
      ]
     },
     "execution_count": 41,
     "metadata": {},
     "output_type": "execute_result"
    }
   ],
   "source": [
    "# The Expected output: \"Reached 99.9% accuracy so cancelling training!\"\"\n",
    "train_happy_sad_model()"
   ]
  },
  {
   "cell_type": "code",
   "execution_count": 4,
   "metadata": {},
   "outputs": [],
   "source": [
    "# Now click the 'Submit Assignment' button above.\n",
    "# Once that is complete, please run the following two cells to save your work and close the notebook"
   ]
  },
  {
   "cell_type": "code",
   "execution_count": null,
   "metadata": {},
   "outputs": [],
   "source": [
    "%%javascript\n",
    "<!-- Save the notebook -->\n",
    "IPython.notebook.save_checkpoint();"
   ]
  },
  {
   "cell_type": "code",
   "execution_count": null,
   "metadata": {},
   "outputs": [],
   "source": [
    "%%javascript\n",
    "IPython.notebook.session.delete();\n",
    "window.onbeforeunload = null\n",
    "setTimeout(function() { window.close(); }, 1000);"
   ]
  }
 ],
 "metadata": {
  "coursera": {
   "course_slug": "introduction-tensorflow",
   "graded_item_id": "1kAlw",
   "launcher_item_id": "PNLYD"
  },
  "kernelspec": {
   "display_name": "Python 3",
   "language": "python",
   "name": "python3"
  },
  "language_info": {
   "codemirror_mode": {
    "name": "ipython",
    "version": 3
   },
   "file_extension": ".py",
   "mimetype": "text/x-python",
   "name": "python",
   "nbconvert_exporter": "python",
   "pygments_lexer": "ipython3",
   "version": "3.6.8"
  }
 },
 "nbformat": 4,
 "nbformat_minor": 1
}
