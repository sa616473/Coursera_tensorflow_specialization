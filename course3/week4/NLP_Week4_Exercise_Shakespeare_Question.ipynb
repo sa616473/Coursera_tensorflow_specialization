{
  "nbformat": 4,
  "nbformat_minor": 0,
  "metadata": {
    "accelerator": "GPU",
    "colab": {
      "name": "NLP_Week4_Exercise_Shakespeare_Question.ipynb",
      "provenance": [],
      "toc_visible": true
    },
    "kernelspec": {
      "display_name": "Python 3",
      "name": "python3"
    }
  },
  "cells": [
    {
      "cell_type": "code",
      "metadata": {
        "id": "zX4Kg8DUTKWO",
        "colab_type": "code",
        "colab": {}
      },
      "source": [
        "#@title Licensed under the Apache License, Version 2.0 (the \"License\");\n",
        "# you may not use this file except in compliance with the License.\n",
        "# You may obtain a copy of the License at\n",
        "#\n",
        "# https://www.apache.org/licenses/LICENSE-2.0\n",
        "#\n",
        "# Unless required by applicable law or agreed to in writing, software\n",
        "# distributed under the License is distributed on an \"AS IS\" BASIS,\n",
        "# WITHOUT WARRANTIES OR CONDITIONS OF ANY KIND, either express or implied.\n",
        "# See the License for the specific language governing permissions and\n",
        "# limitations under the License."
      ],
      "execution_count": null,
      "outputs": []
    },
    {
      "cell_type": "code",
      "metadata": {
        "colab_type": "code",
        "id": "BOwsuGQQY9OL",
        "colab": {}
      },
      "source": [
        "from tensorflow.keras.preprocessing.sequence import pad_sequences\n",
        "from tensorflow.keras.layers import Embedding, LSTM, Dense, Dropout, Bidirectional\n",
        "from tensorflow.keras.preprocessing.text import Tokenizer\n",
        "from tensorflow.keras.models import Sequential\n",
        "from tensorflow.keras.optimizers import Adam\n",
        "### YOUR CODE HERE\n",
        "# Figure out how to import regularizers\n",
        "from tensorflow.keras.regularizers import l2\n",
        "###\n",
        "import tensorflow.keras.utils as ku \n",
        "import numpy as np "
      ],
      "execution_count": 4,
      "outputs": []
    },
    {
      "cell_type": "code",
      "metadata": {
        "colab_type": "code",
        "id": "PRnDnCW-Z7qv",
        "colab": {
          "base_uri": "https://localhost:8080/",
          "height": 220
        },
        "outputId": "836eef7b-372c-4994-b3cd-5fc8a2e87b84"
      },
      "source": [
        "tokenizer = Tokenizer()\n",
        "!wget --no-check-certificate \\\n",
        "    https://storage.googleapis.com/laurencemoroney-blog.appspot.com/sonnets.txt \\\n",
        "    -O /tmp/sonnets.txt\n",
        "data = open('/tmp/sonnets.txt').read()\n",
        "\n",
        "corpus = data.lower().split(\"\\n\")\n",
        "\n",
        "\n",
        "tokenizer.fit_on_texts(corpus)\n",
        "total_words = len(tokenizer.word_index) + 1\n",
        "\n",
        "# create input sequences using list of tokens\n",
        "input_sequences = []\n",
        "for line in corpus:\n",
        "\ttoken_list = tokenizer.texts_to_sequences([line])[0]\n",
        "\tfor i in range(1, len(token_list)):\n",
        "\t\tn_gram_sequence = token_list[:i+1]\n",
        "\t\tinput_sequences.append(n_gram_sequence)\n",
        "\n",
        "\n",
        "# pad sequences \n",
        "max_sequence_len = max([len(x) for x in input_sequences])\n",
        "input_sequences = np.array(pad_sequences(input_sequences, maxlen=max_sequence_len, padding='pre'))\n",
        "\n",
        "# create predictors and label\n",
        "predictors, label = input_sequences[:,:-1],input_sequences[:,-1]\n",
        "\n",
        "label = ku.to_categorical(label, num_classes=total_words)"
      ],
      "execution_count": 2,
      "outputs": [
        {
          "output_type": "stream",
          "text": [
            "--2020-08-28 02:45:33--  https://storage.googleapis.com/laurencemoroney-blog.appspot.com/sonnets.txt\n",
            "Resolving storage.googleapis.com (storage.googleapis.com)... 74.125.142.128, 74.125.195.128, 74.125.20.128, ...\n",
            "Connecting to storage.googleapis.com (storage.googleapis.com)|74.125.142.128|:443... connected.\n",
            "HTTP request sent, awaiting response... 200 OK\n",
            "Length: 93578 (91K) [text/plain]\n",
            "Saving to: ‘/tmp/sonnets.txt’\n",
            "\n",
            "\r/tmp/sonnets.txt      0%[                    ]       0  --.-KB/s               \r/tmp/sonnets.txt    100%[===================>]  91.38K  --.-KB/s    in 0.001s  \n",
            "\n",
            "2020-08-28 02:45:33 (103 MB/s) - ‘/tmp/sonnets.txt’ saved [93578/93578]\n",
            "\n"
          ],
          "name": "stdout"
        }
      ]
    },
    {
      "cell_type": "code",
      "metadata": {
        "colab_type": "code",
        "id": "w9vH8Y59ajYL",
        "colab": {
          "base_uri": "https://localhost:8080/",
          "height": 442
        },
        "outputId": "31620064-104d-4801-965f-a4e3aa0e6f38"
      },
      "source": [
        "model = Sequential()\n",
        "model.add(Embedding(total_words,100, input_length=max_sequence_len-1))\n",
        "model.add(Bidirectional(LSTM(150, return_sequences=True)))\n",
        "model.add(Dropout(0.2))\n",
        "model.add(LSTM(100))\n",
        "model.add(Dense(total_words/2, activation='relu', kernel_regularizer=l2()))\n",
        "model.add(Dropout(0.2))\n",
        "# Pick an optimizer\n",
        "model.add(Dense(total_words, activation='softmax'))\n",
        "model.compile(loss='categorical_crossentropy', optimizer='adam', metrics=['accuracy'])\n",
        "\n",
        "print(model.summary())\n"
      ],
      "execution_count": 13,
      "outputs": [
        {
          "output_type": "stream",
          "text": [
            "Model: \"sequential_5\"\n",
            "_________________________________________________________________\n",
            "Layer (type)                 Output Shape              Param #   \n",
            "=================================================================\n",
            "embedding_4 (Embedding)      (None, 10, 100)           321100    \n",
            "_________________________________________________________________\n",
            "bidirectional_6 (Bidirection (None, 10, 300)           301200    \n",
            "_________________________________________________________________\n",
            "dropout_7 (Dropout)          (None, 10, 300)           0         \n",
            "_________________________________________________________________\n",
            "lstm_9 (LSTM)                (None, 100)               160400    \n",
            "_________________________________________________________________\n",
            "dense_5 (Dense)              (None, 1605)              162105    \n",
            "_________________________________________________________________\n",
            "dropout_8 (Dropout)          (None, 1605)              0         \n",
            "_________________________________________________________________\n",
            "dense_6 (Dense)              (None, 3211)              5156866   \n",
            "=================================================================\n",
            "Total params: 6,101,671\n",
            "Trainable params: 6,101,671\n",
            "Non-trainable params: 0\n",
            "_________________________________________________________________\n",
            "None\n"
          ],
          "name": "stdout"
        }
      ]
    },
    {
      "cell_type": "code",
      "metadata": {
        "colab_type": "code",
        "id": "AIg2f1HBxqof",
        "colab": {
          "base_uri": "https://localhost:8080/",
          "height": 1000
        },
        "outputId": "d016b949-4e98-44e6-b202-ebd6651d55a8"
      },
      "source": [
        " history = model.fit(predictors, label, epochs=100, verbose=1)"
      ],
      "execution_count": 14,
      "outputs": [
        {
          "output_type": "stream",
          "text": [
            "Epoch 1/100\n",
            "484/484 [==============================] - 6s 13ms/step - loss: 6.8957 - accuracy: 0.0220\n",
            "Epoch 2/100\n",
            "484/484 [==============================] - 6s 12ms/step - loss: 6.5174 - accuracy: 0.0233\n",
            "Epoch 3/100\n",
            "484/484 [==============================] - 6s 13ms/step - loss: 6.4309 - accuracy: 0.0221\n",
            "Epoch 4/100\n",
            "484/484 [==============================] - 6s 12ms/step - loss: 6.3395 - accuracy: 0.0255\n",
            "Epoch 5/100\n",
            "484/484 [==============================] - 6s 13ms/step - loss: 6.2250 - accuracy: 0.0307\n",
            "Epoch 6/100\n",
            "484/484 [==============================] - 6s 12ms/step - loss: 6.1160 - accuracy: 0.0334\n",
            "Epoch 7/100\n",
            "484/484 [==============================] - 6s 13ms/step - loss: 6.0189 - accuracy: 0.0373\n",
            "Epoch 8/100\n",
            "484/484 [==============================] - 6s 12ms/step - loss: 5.9342 - accuracy: 0.0420\n",
            "Epoch 9/100\n",
            "484/484 [==============================] - 6s 13ms/step - loss: 5.8467 - accuracy: 0.0454\n",
            "Epoch 10/100\n",
            "484/484 [==============================] - 6s 12ms/step - loss: 5.7733 - accuracy: 0.0469\n",
            "Epoch 11/100\n",
            "484/484 [==============================] - 6s 12ms/step - loss: 5.6986 - accuracy: 0.0521\n",
            "Epoch 12/100\n",
            "484/484 [==============================] - 6s 12ms/step - loss: 5.6143 - accuracy: 0.0599\n",
            "Epoch 13/100\n",
            "484/484 [==============================] - 6s 12ms/step - loss: 5.5387 - accuracy: 0.0628\n",
            "Epoch 14/100\n",
            "484/484 [==============================] - 6s 12ms/step - loss: 5.4539 - accuracy: 0.0678\n",
            "Epoch 15/100\n",
            "484/484 [==============================] - 6s 12ms/step - loss: 5.3883 - accuracy: 0.0755\n",
            "Epoch 16/100\n",
            "484/484 [==============================] - 6s 12ms/step - loss: 5.3128 - accuracy: 0.0797\n",
            "Epoch 17/100\n",
            "484/484 [==============================] - 6s 12ms/step - loss: 5.2298 - accuracy: 0.0847\n",
            "Epoch 18/100\n",
            "484/484 [==============================] - 6s 12ms/step - loss: 5.1451 - accuracy: 0.0907\n",
            "Epoch 19/100\n",
            "484/484 [==============================] - 6s 12ms/step - loss: 5.0806 - accuracy: 0.0977\n",
            "Epoch 20/100\n",
            "484/484 [==============================] - 6s 12ms/step - loss: 5.0006 - accuracy: 0.1064\n",
            "Epoch 21/100\n",
            "484/484 [==============================] - 6s 12ms/step - loss: 4.9353 - accuracy: 0.1103\n",
            "Epoch 22/100\n",
            "484/484 [==============================] - 6s 12ms/step - loss: 4.8666 - accuracy: 0.1196\n",
            "Epoch 23/100\n",
            "484/484 [==============================] - 6s 12ms/step - loss: 4.7990 - accuracy: 0.1233\n",
            "Epoch 24/100\n",
            "484/484 [==============================] - 6s 12ms/step - loss: 4.7358 - accuracy: 0.1314\n",
            "Epoch 25/100\n",
            "484/484 [==============================] - 6s 12ms/step - loss: 4.6658 - accuracy: 0.1386\n",
            "Epoch 26/100\n",
            "484/484 [==============================] - 6s 12ms/step - loss: 4.6089 - accuracy: 0.1448\n",
            "Epoch 27/100\n",
            "484/484 [==============================] - 6s 12ms/step - loss: 4.5404 - accuracy: 0.1511\n",
            "Epoch 28/100\n",
            "484/484 [==============================] - 6s 12ms/step - loss: 4.4801 - accuracy: 0.1610\n",
            "Epoch 29/100\n",
            "484/484 [==============================] - 6s 12ms/step - loss: 4.4190 - accuracy: 0.1682\n",
            "Epoch 30/100\n",
            "484/484 [==============================] - 6s 12ms/step - loss: 4.3584 - accuracy: 0.1759\n",
            "Epoch 31/100\n",
            "484/484 [==============================] - 6s 12ms/step - loss: 4.3092 - accuracy: 0.1809\n",
            "Epoch 32/100\n",
            "484/484 [==============================] - 6s 12ms/step - loss: 4.2493 - accuracy: 0.1856\n",
            "Epoch 33/100\n",
            "484/484 [==============================] - 6s 11ms/step - loss: 4.1717 - accuracy: 0.1984\n",
            "Epoch 34/100\n",
            "484/484 [==============================] - 6s 12ms/step - loss: 4.1180 - accuracy: 0.2036\n",
            "Epoch 35/100\n",
            "484/484 [==============================] - 6s 12ms/step - loss: 4.0787 - accuracy: 0.2111\n",
            "Epoch 36/100\n",
            "484/484 [==============================] - 6s 12ms/step - loss: 4.0158 - accuracy: 0.2173\n",
            "Epoch 37/100\n",
            "484/484 [==============================] - 6s 12ms/step - loss: 3.9684 - accuracy: 0.2248\n",
            "Epoch 38/100\n",
            "484/484 [==============================] - 6s 12ms/step - loss: 3.9217 - accuracy: 0.2305\n",
            "Epoch 39/100\n",
            "484/484 [==============================] - 6s 12ms/step - loss: 3.8609 - accuracy: 0.2403\n",
            "Epoch 40/100\n",
            "484/484 [==============================] - 6s 13ms/step - loss: 3.8022 - accuracy: 0.2502\n",
            "Epoch 41/100\n",
            "484/484 [==============================] - 6s 12ms/step - loss: 3.7564 - accuracy: 0.2564\n",
            "Epoch 42/100\n",
            "484/484 [==============================] - 6s 12ms/step - loss: 3.6997 - accuracy: 0.2637\n",
            "Epoch 43/100\n",
            "484/484 [==============================] - 6s 12ms/step - loss: 3.6425 - accuracy: 0.2726\n",
            "Epoch 44/100\n",
            "484/484 [==============================] - 5s 11ms/step - loss: 3.5961 - accuracy: 0.2791\n",
            "Epoch 45/100\n",
            "484/484 [==============================] - 6s 12ms/step - loss: 3.5567 - accuracy: 0.2877\n",
            "Epoch 46/100\n",
            "484/484 [==============================] - 6s 12ms/step - loss: 3.5175 - accuracy: 0.2902\n",
            "Epoch 47/100\n",
            "484/484 [==============================] - 6s 12ms/step - loss: 3.4601 - accuracy: 0.2954\n",
            "Epoch 48/100\n",
            "484/484 [==============================] - 6s 12ms/step - loss: 3.4277 - accuracy: 0.3093\n",
            "Epoch 49/100\n",
            "484/484 [==============================] - 6s 12ms/step - loss: 3.3965 - accuracy: 0.3159\n",
            "Epoch 50/100\n",
            "484/484 [==============================] - 6s 12ms/step - loss: 3.3369 - accuracy: 0.3183\n",
            "Epoch 51/100\n",
            "484/484 [==============================] - 6s 12ms/step - loss: 3.2913 - accuracy: 0.3288\n",
            "Epoch 52/100\n",
            "484/484 [==============================] - 6s 12ms/step - loss: 3.2518 - accuracy: 0.3392\n",
            "Epoch 53/100\n",
            "484/484 [==============================] - 6s 12ms/step - loss: 3.2133 - accuracy: 0.3458\n",
            "Epoch 54/100\n",
            "484/484 [==============================] - 6s 12ms/step - loss: 3.1769 - accuracy: 0.3525\n",
            "Epoch 55/100\n",
            "484/484 [==============================] - 6s 12ms/step - loss: 3.1247 - accuracy: 0.3627\n",
            "Epoch 56/100\n",
            "484/484 [==============================] - 6s 12ms/step - loss: 3.0898 - accuracy: 0.3682\n",
            "Epoch 57/100\n",
            "484/484 [==============================] - 6s 12ms/step - loss: 3.0646 - accuracy: 0.3719\n",
            "Epoch 58/100\n",
            "484/484 [==============================] - 6s 12ms/step - loss: 3.0353 - accuracy: 0.3778\n",
            "Epoch 59/100\n",
            "484/484 [==============================] - 6s 12ms/step - loss: 2.9931 - accuracy: 0.3883\n",
            "Epoch 60/100\n",
            "484/484 [==============================] - 6s 11ms/step - loss: 2.9711 - accuracy: 0.3915\n",
            "Epoch 61/100\n",
            "484/484 [==============================] - 6s 11ms/step - loss: 2.9439 - accuracy: 0.4003\n",
            "Epoch 62/100\n",
            "484/484 [==============================] - 6s 12ms/step - loss: 2.8972 - accuracy: 0.4061\n",
            "Epoch 63/100\n",
            "484/484 [==============================] - 6s 12ms/step - loss: 2.8757 - accuracy: 0.4106\n",
            "Epoch 64/100\n",
            "484/484 [==============================] - 6s 12ms/step - loss: 2.8382 - accuracy: 0.4170\n",
            "Epoch 65/100\n",
            "484/484 [==============================] - 6s 11ms/step - loss: 2.8045 - accuracy: 0.4255\n",
            "Epoch 66/100\n",
            "484/484 [==============================] - 6s 11ms/step - loss: 2.7594 - accuracy: 0.4369\n",
            "Epoch 67/100\n",
            "484/484 [==============================] - 6s 12ms/step - loss: 2.7433 - accuracy: 0.4402\n",
            "Epoch 68/100\n",
            "484/484 [==============================] - 6s 11ms/step - loss: 2.7054 - accuracy: 0.4512\n",
            "Epoch 69/100\n",
            "484/484 [==============================] - 6s 11ms/step - loss: 2.6872 - accuracy: 0.4527\n",
            "Epoch 70/100\n",
            "484/484 [==============================] - 6s 11ms/step - loss: 2.6564 - accuracy: 0.4600\n",
            "Epoch 71/100\n",
            "484/484 [==============================] - 5s 11ms/step - loss: 2.6142 - accuracy: 0.4662\n",
            "Epoch 72/100\n",
            "484/484 [==============================] - 6s 11ms/step - loss: 2.5750 - accuracy: 0.4781\n",
            "Epoch 73/100\n",
            "484/484 [==============================] - 6s 12ms/step - loss: 2.5637 - accuracy: 0.4822\n",
            "Epoch 74/100\n",
            "484/484 [==============================] - 6s 12ms/step - loss: 2.5738 - accuracy: 0.4770\n",
            "Epoch 75/100\n",
            "484/484 [==============================] - 6s 11ms/step - loss: 2.5148 - accuracy: 0.4869\n",
            "Epoch 76/100\n",
            "484/484 [==============================] - 6s 12ms/step - loss: 2.4926 - accuracy: 0.4901\n",
            "Epoch 77/100\n",
            "484/484 [==============================] - 6s 12ms/step - loss: 2.4676 - accuracy: 0.4955\n",
            "Epoch 78/100\n",
            "484/484 [==============================] - 6s 13ms/step - loss: 2.4436 - accuracy: 0.5036\n",
            "Epoch 79/100\n",
            "484/484 [==============================] - 6s 12ms/step - loss: 2.4174 - accuracy: 0.5089\n",
            "Epoch 80/100\n",
            "484/484 [==============================] - 6s 11ms/step - loss: 2.3969 - accuracy: 0.5155\n",
            "Epoch 81/100\n",
            "484/484 [==============================] - 6s 12ms/step - loss: 2.3703 - accuracy: 0.5173\n",
            "Epoch 82/100\n",
            "484/484 [==============================] - 6s 12ms/step - loss: 2.3424 - accuracy: 0.5254\n",
            "Epoch 83/100\n",
            "484/484 [==============================] - 6s 12ms/step - loss: 2.3480 - accuracy: 0.5244\n",
            "Epoch 84/100\n",
            "484/484 [==============================] - 6s 12ms/step - loss: 2.2925 - accuracy: 0.5367\n",
            "Epoch 85/100\n",
            "484/484 [==============================] - 6s 12ms/step - loss: 2.2774 - accuracy: 0.5447\n",
            "Epoch 86/100\n",
            "484/484 [==============================] - 5s 11ms/step - loss: 2.2681 - accuracy: 0.5434\n",
            "Epoch 87/100\n",
            "484/484 [==============================] - 6s 12ms/step - loss: 2.2910 - accuracy: 0.5399\n",
            "Epoch 88/100\n",
            "484/484 [==============================] - 6s 12ms/step - loss: 2.2677 - accuracy: 0.5382\n",
            "Epoch 89/100\n",
            "484/484 [==============================] - 6s 12ms/step - loss: 2.1991 - accuracy: 0.5593\n",
            "Epoch 90/100\n",
            "484/484 [==============================] - 6s 12ms/step - loss: 2.1743 - accuracy: 0.5626\n",
            "Epoch 91/100\n",
            "484/484 [==============================] - 6s 12ms/step - loss: 2.1638 - accuracy: 0.5630\n",
            "Epoch 92/100\n",
            "484/484 [==============================] - 6s 12ms/step - loss: 2.1556 - accuracy: 0.5641\n",
            "Epoch 93/100\n",
            "484/484 [==============================] - 6s 12ms/step - loss: 2.1139 - accuracy: 0.5757\n",
            "Epoch 94/100\n",
            "484/484 [==============================] - 6s 12ms/step - loss: 2.1055 - accuracy: 0.5765\n",
            "Epoch 95/100\n",
            "484/484 [==============================] - 6s 11ms/step - loss: 2.0783 - accuracy: 0.5841\n",
            "Epoch 96/100\n",
            "484/484 [==============================] - 6s 12ms/step - loss: 2.0645 - accuracy: 0.5873\n",
            "Epoch 97/100\n",
            "484/484 [==============================] - 6s 12ms/step - loss: 2.0481 - accuracy: 0.5905\n",
            "Epoch 98/100\n",
            "484/484 [==============================] - 6s 11ms/step - loss: 2.0429 - accuracy: 0.5936\n",
            "Epoch 99/100\n",
            "484/484 [==============================] - 6s 12ms/step - loss: 2.0240 - accuracy: 0.5905\n",
            "Epoch 100/100\n",
            "484/484 [==============================] - 6s 12ms/step - loss: 1.9778 - accuracy: 0.6059\n"
          ],
          "name": "stdout"
        }
      ]
    },
    {
      "cell_type": "code",
      "metadata": {
        "colab_type": "code",
        "id": "1fXTEO3GJ282",
        "colab": {
          "base_uri": "https://localhost:8080/",
          "height": 545
        },
        "outputId": "33011c12-d8a2-4ecc-f9f3-aa2ccd555a94"
      },
      "source": [
        "\n",
        "import matplotlib.pyplot as plt\n",
        "acc = history.history['accuracy']\n",
        "loss = history.history['loss']\n",
        "\n",
        "epochs = range(len(acc))\n",
        "\n",
        "plt.plot(epochs, acc, 'b', label='Training accuracy')\n",
        "plt.title('Training accuracy')\n",
        "\n",
        "plt.figure()\n",
        "\n",
        "plt.plot(epochs, loss, 'b', label='Training Loss')\n",
        "plt.title('Training loss')\n",
        "plt.legend()\n",
        "\n",
        "plt.show()"
      ],
      "execution_count": 15,
      "outputs": [
        {
          "output_type": "display_data",
          "data": {
            "image/png": "[encoded data removed]",
            "text/plain": [
              "<Figure size 432x288 with 1 Axes>"
            ]
          },
          "metadata": {
            "tags": [],
            "needs_background": "light"
          }
        },
        {
          "output_type": "display_data",
          "data": {
            "image/png": "[encoded data removed]",
            "text/plain": [
              "<Figure size 432x288 with 1 Axes>"
            ]
          },
          "metadata": {
            "tags": [],
            "needs_background": "light"
          }
        }
      ]
    },
    {
      "cell_type": "code",
      "metadata": {
        "colab_type": "code",
        "id": "6Vc6PHgxa6Hm",
        "colab": {
          "base_uri": "https://localhost:8080/",
          "height": 111
        },
        "outputId": "0f6b026b-e830-491c-fbef-3286443297bf"
      },
      "source": [
        "seed_text = \"Help me Obi Wan Kenobi, you're my only hope\"\n",
        "next_words = 100\n",
        "  \n",
        "for _ in range(next_words):\n",
        "\ttoken_list = tokenizer.texts_to_sequences([seed_text])[0]\n",
        "\ttoken_list = pad_sequences([token_list], maxlen=max_sequence_len-1, padding='pre')\n",
        "\tpredicted = model.predict_classes(token_list, verbose=0)\n",
        "\toutput_word = \"\"\n",
        "\tfor word, index in tokenizer.word_index.items():\n",
        "\t\tif index == predicted:\n",
        "\t\t\toutput_word = word\n",
        "\t\t\tbreak\n",
        "\tseed_text += \" \" + output_word\n",
        "print(seed_text)"
      ],
      "execution_count": 16,
      "outputs": [
        {
          "output_type": "stream",
          "text": [
            "WARNING:tensorflow:From <ipython-input-16-622d307fa19a>:7: Sequential.predict_classes (from tensorflow.python.keras.engine.sequential) is deprecated and will be removed after 2021-01-01.\n",
            "Instructions for updating:\n",
            "Please use instead:* `np.argmax(model.predict(x), axis=-1)`,   if your model does multi-class classification   (e.g. if it uses a `softmax` last-layer activation).* `(model.predict(x) > 0.5).astype(\"int32\")`,   if your model does binary classification   (e.g. if it uses a `sigmoid` last-layer activation).\n",
            "Help me Obi Wan Kenobi, you're my only hope too 'will' more powerful days survey respect days so wanting dead eyes know so thine is such view eyes give decay aside twain light near slain brow exceeds near slain ' grew told mine stay they despair my moan new near slain brow erred kill'd erred exceeds near slain days told still lie so form new pride was old brow ' have keep out out in his same worthless son say not there dyed prove end respect respect kill'd ' have fortify luck still grow dyed young new bright change your state and half for true heart well shines to\n"
          ],
          "name": "stdout"
        }
      ]
    },
    {
      "cell_type": "code",
      "metadata": {
        "id": "NuvoDpZ5EdcB",
        "colab_type": "code",
        "colab": {}
      },
      "source": [
        ""
      ],
      "execution_count": null,
      "outputs": []
    }
  ]
}